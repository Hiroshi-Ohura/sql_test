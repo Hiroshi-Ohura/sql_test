{
 "cells": [
  {
   "cell_type": "markdown",
   "metadata": {},
   "source": [
    "# HW3: 新規ユーザーの初日の行動と翌日起動の関係を調べる\n",
    "\n",
    "user_data.user_masterとstat.user_article_statを使い、2016年1月1日入会ユーザーについて、各ユーザーの入会後24時間以内行動データ（以下のような表）と次の24時間から48時間でアプリを起動したかどうかをを作成してください。スライドP.91の質問に答えてください。"
   ]
  },
  {
   "cell_type": "markdown",
   "metadata": {},
   "source": [
    "## 質問\n",
    "ダウンロード翌日（ダウンロードしてから24時間後~48時間後)起動する人とそうでない人について、初日にとった以下の行動の回数で大きな差異が見られますか？\n",
    "\n",
    "もし差異があるとしたら、どの行動ですか？\n",
    "\n",
    "* app_open（アプリの起動）\n",
    "* topic_follow　（テーマをフォローした）\n",
    "* article_show　（記事タイトルを見た）\n",
    "* article_read　（記事本文を閲覧した）\n"
   ]
  },
  {
   "cell_type": "code",
   "execution_count": 1,
   "metadata": {
    "collapsed": true
   },
   "outputs": [],
   "source": [
    "%matplotlib inline\n",
    "import pandas as pd\n",
    "import pandas.io.sql as psql\n",
    "import numpy as np\n",
    "import matplotlib\n",
    "import matplotlib.pyplot as plt\n",
    "matplotlib.style.use('ggplot')\n",
    "\n",
    "import psycopg2\n",
    "\n",
    "from __future__ import print_function"
   ]
  },
  {
   "cell_type": "markdown",
   "metadata": {},
   "source": [
    "<H2>データベースへのアクセスを確立する</H2>\n",
    "* dbnameはアクセスするデータベースの名前を指定\n",
    "* userはユーザー名\n",
    "* passwordはパスワード\n",
    "* hostはデータベースがあるサーバーのアドレス\n",
    "* portは通信する際のポート番号（今回はRedshiftなので5439。実務で使う場合はデータベースエンジニアなど管理者に確認）"
   ]
  },
  {
   "cell_type": "code",
   "execution_count": 2,
   "metadata": {
    "collapsed": true
   },
   "outputs": [],
   "source": [
    "db_params = {\n",
    "    'dbname': 'kameliodemo',\n",
    "    'user': 'dsbootcamp',\n",
    "    'password': 'July2017',\n",
    "    'host': \"sql-training.crijpbsngns8.ap-northeast-1.redshift.amazonaws.com\",\n",
    "    'port': 5439\n",
    "}\n",
    "\n",
    "con = psycopg2.connect(**db_params)"
   ]
  },
  {
   "cell_type": "markdown",
   "metadata": {},
   "source": [
    "# ここからコードを書いてください。"
   ]
  },
  {
   "cell_type": "code",
   "execution_count": 3,
   "metadata": {},
   "outputs": [
    {
     "data": {
      "text/plain": [
       "<connection object at 0x0000024F855D2258; dsn: 'user=dsbootcamp password=xxx dbname=kameliodemo host=sql-training.crijpbsngns8.ap-northeast-1.redshift.amazonaws.com port=5439', closed: 0>"
      ]
     },
     "execution_count": 3,
     "metadata": {},
     "output_type": "execute_result"
    }
   ],
   "source": [
    "con"
   ]
  },
  {
   "cell_type": "code",
   "execution_count": null,
   "metadata": {
    "collapsed": true
   },
   "outputs": [],
   "source": []
  }
 ],
 "metadata": {
  "kernelspec": {
   "display_name": "Python 3",
   "language": "python",
   "name": "python3"
  },
  "language_info": {
   "codemirror_mode": {
    "name": "ipython",
    "version": 3
   },
   "file_extension": ".py",
   "mimetype": "text/x-python",
   "name": "python",
   "nbconvert_exporter": "python",
   "pygments_lexer": "ipython3",
   "version": "3.6.1"
  }
 },
 "nbformat": 4,
 "nbformat_minor": 1
}
